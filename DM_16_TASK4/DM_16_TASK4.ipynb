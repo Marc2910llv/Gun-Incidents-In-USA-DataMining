{
 "cells": [
  {
   "cell_type": "markdown",
   "metadata": {
    "id": "RPHfyRbNzKcv"
   },
   "source": [
    "# Time Series Analysis\n",
    "\n",
    "**Authors:** \n",
    "- Marc Villalonga Llobera\n",
    "- Patxi Juaristi Pagegi\n",
    "\n",
    "**Date:** 08/01/2024\n",
    "\n",
    "---\n",
    "\n",
    "This Jupyter Notebook covers the fourth task of the project for the Data Mining subject of the Laurea Magistrale of the University of Pisa, focused in time series analysis."
   ]
  },
  {
   "cell_type": "markdown",
   "metadata": {
    "id": "zwQ_z05hzsLh"
   },
   "source": [
    "## Environment preparation and data reading\n",
    "\n",
    "First of all, we will install all the required packages, and then import the libraries that we will use:\n"
   ]
  },
  {
   "cell_type": "code",
   "execution_count": null,
   "metadata": {
    "colab": {
     "base_uri": "https://localhost:8080/"
    },
    "id": "bfOUKxJsznAp",
    "outputId": "efba5e14-dcaf-4881-fa82-c4351994e134"
   },
   "outputs": [],
   "source": [
    "#%%capture\n",
    "#!python -m pip install --upgrade pip\n",
    "#!pip install pandas\n",
    "#!pip install matplotlib\n",
    "\n",
    "# Añadir aqui si necesitamos otras librerias"
   ]
  },
  {
   "cell_type": "code",
   "execution_count": null,
   "metadata": {},
   "outputs": [],
   "source": [
    "# Import necessary libraries\n",
    "import pandas as pd\n",
    "import matplotlib.pyplot as plt\n",
    "import numpy as np\n",
    "\n",
    "# Añadir aqui las librerias que necesitamos importar"
   ]
  },
  {
   "cell_type": "markdown",
   "metadata": {},
   "source": [
    "After importing the required libraries, we will read the datasets that we have exported in the task 1, which they contain the data filtered after the data preparation tasks."
   ]
  },
  {
   "cell_type": "code",
   "execution_count": null,
   "metadata": {},
   "outputs": [],
   "source": [
    "# Load the three datasets\n",
    "incidents_dataset = pd.read_csv('../project_datasets/incidents_v2.csv', low_memory=False)\n",
    "pbsy_dataset = pd.read_csv('../project_datasets/povertyByStateYear_v2.csv')\n",
    "ysdh_dataset = pd.read_csv('../project_datasets/year_state_district_house_v2.csv')"
   ]
  }
 ],
 "metadata": {
  "colab": {
   "provenance": []
  },
  "kernelspec": {
   "display_name": "Python 3 (ipykernel)",
   "language": "python",
   "name": "python3"
  },
  "language_info": {
   "codemirror_mode": {
    "name": "ipython",
    "version": 3
   },
   "file_extension": ".py",
   "mimetype": "text/x-python",
   "name": "python",
   "nbconvert_exporter": "python",
   "pygments_lexer": "ipython3",
   "version": "3.11.5"
  }
 },
 "nbformat": 4,
 "nbformat_minor": 4
}
